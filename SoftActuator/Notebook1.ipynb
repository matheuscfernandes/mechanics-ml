{
 "cells": [
  {
   "cell_type": "code",
   "execution_count": 2,
   "metadata": {
    "collapsed": false
   },
   "outputs": [
    {
     "name": "stdout",
     "output_type": "stream",
     "text": [
      "Populating the interactive namespace from numpy and matplotlib\n"
     ]
    }
   ],
   "source": [
    "import matplotlib.pyplot as plt\n",
    "import numpy.random\n",
    "import numpy as np\n",
    "import seaborn\n",
    "import sklearn as sk\n",
    "import pandas as pd\n",
    "import glob\n",
    "import os\n",
    "%pylab inline"
   ]
  },
  {
   "cell_type": "code",
   "execution_count": 3,
   "metadata": {
    "collapsed": true
   },
   "outputs": [],
   "source": [
    "pylab.rcParams['figure.figsize'] = (8, 4)\n",
    "pylab.rcParams['xtick.labelsize'] = 16\n",
    "pylab.rcParams['ytick.labelsize'] = 16\n",
    "pylab.rcParams['axes.labelsize'] = 20\n",
    "pylab.rcParams['legend.fontsize'] = 15\n",
    "pylab.rcParams['axes.titlesize'] = 24\n",
    "pylab.rcParams['legend.frameon'] = True \n",
    "# pylab.rcParams['figure.'] = True "
   ]
  },
  {
   "cell_type": "code",
   "execution_count": 4,
   "metadata": {
    "collapsed": false
   },
   "outputs": [],
   "source": [
    "path='Data/H40/'\n",
    "data = np.loadtxt(path+'W100H40T100-PK.out', delimiter=' ')"
   ]
  },
  {
   "cell_type": "code",
   "execution_count": 5,
   "metadata": {
    "collapsed": false
   },
   "outputs": [
    {
     "name": "stdout",
     "output_type": "stream",
     "text": [
      "['W100H40T100-PK.out', '._W100H40T100-PK.out', 'W100H40T100-PV.out', '._W100H40T100-PV.out', 'W100H40T100-VK.out', '._W100H40T100-VK.out', 'W100H40T127-PK.out', '._W100H40T127-PK.out', 'W100H40T127-PV.out', '._W100H40T127-PV.out', 'W100H40T127-VK.out', '._W100H40T127-VK.out', 'W100H40T155-PK.out', '._W100H40T155-PK.out', 'W100H40T155-PV.out', '._W100H40T155-PV.out', 'W100H40T155-VK.out', '._W100H40T155-VK.out', 'W100H40T182-PK.out', '._W100H40T182-PK.out', 'W100H40T182-PV.out', '._W100H40T182-PV.out', 'W100H40T182-VK.out', '._W100H40T182-VK.out', 'W100H40T209-PK.out', '._W100H40T209-PK.out', 'W100H40T209-PV.out', '._W100H40T209-PV.out', 'W100H40T209-VK.out', '._W100H40T209-VK.out', 'W100H40T236-PK.out', '._W100H40T236-PK.out', 'W100H40T236-PV.out', '._W100H40T236-PV.out', 'W100H40T236-VK.out', '._W100H40T236-VK.out', 'W100H40T264-PK.out', '._W100H40T264-PK.out', 'W100H40T264-PV.out', '._W100H40T264-PV.out', 'W100H40T264-VK.out', '._W100H40T264-VK.out', 'W100H40T291-PK.out', '._W100H40T291-PK.out', 'W100H40T291-PV.out', '._W100H40T291-PV.out', 'W100H40T291-VK.out', '._W100H40T291-VK.out', 'W100H40T318-PK.out', '._W100H40T318-PK.out', 'W100H40T318-PV.out', '._W100H40T318-PV.out', 'W100H40T318-VK.out', '._W100H40T318-VK.out', 'W100H40T345-PK.out', '._W100H40T345-PK.out', 'W100H40T345-PV.out', '._W100H40T345-PV.out', 'W100H40T345-VK.out', '._W100H40T345-VK.out', 'W100H40T373-PK.out', '._W100H40T373-PK.out', 'W100H40T373-PV.out', '._W100H40T373-PV.out', 'W100H40T373-VK.out', '._W100H40T373-VK.out', 'W100H40T400-PK.out', '._W100H40T400-PK.out', 'W100H40T400-PV.out', '._W100H40T400-PV.out', 'W100H40T400-VK.out', '._W100H40T400-VK.out']\n"
     ]
    }
   ],
   "source": [
    "print os.listdir(\"Data/H40/\")"
   ]
  },
  {
   "cell_type": "code",
   "execution_count": 6,
   "metadata": {
    "collapsed": false
   },
   "outputs": [
    {
     "name": "stdout",
     "output_type": "stream",
     "text": [
      "['H100', 'H110', 'H120', 'H130', 'H140', 'H150', 'H40', 'H50', 'H60', 'H70', 'H80', 'H90']\n"
     ]
    }
   ],
   "source": [
    "dirs = [d for d in os.listdir('Data/') if os.path.isdir(os.path.join('Data/', d))]\n",
    "print dirs\n"
   ]
  },
  {
   "cell_type": "code",
   "execution_count": 7,
   "metadata": {
    "collapsed": false
   },
   "outputs": [
    {
     "name": "stdout",
     "output_type": "stream",
     "text": [
      "['W100H40T100-PK', 'W100H40T100-PV', 'W100H40T100-VK', 'W100H40T127-PK', 'W100H40T127-PV', 'W100H40T127-VK', 'W100H40T155-PK', 'W100H40T155-PV', 'W100H40T155-VK', 'W100H40T182-PK', 'W100H40T182-PV', 'W100H40T182-VK', 'W100H40T209-PK', 'W100H40T209-PV', 'W100H40T209-VK', 'W100H40T236-PK', 'W100H40T236-PV', 'W100H40T236-VK', 'W100H40T264-PK', 'W100H40T264-PV', 'W100H40T264-VK', 'W100H40T291-PK', 'W100H40T291-PV', 'W100H40T291-VK', 'W100H40T318-PK', 'W100H40T318-PV', 'W100H40T318-VK', 'W100H40T345-PK', 'W100H40T345-PV', 'W100H40T345-VK', 'W100H40T373-PK', 'W100H40T373-PV', 'W100H40T373-VK', 'W100H40T400-PK', 'W100H40T400-PV', 'W100H40T400-VK']\n",
      "[100.0, 100.0, 100.0, 100.0, 100.0, 100.0, 100.0, 100.0, 100.0, 100.0, 100.0, 100.0, 100.0, 100.0, 100.0, 100.0, 100.0, 100.0, 100.0, 100.0, 100.0, 100.0, 100.0, 100.0, 100.0, 100.0, 100.0, 100.0, 100.0, 100.0, 100.0, 100.0, 100.0, 100.0, 100.0, 100.0]\n",
      "['PK', 'PV', 'VK', 'PK', 'PV', 'VK', 'PK', 'PV', 'VK', 'PK', 'PV', 'VK', 'PK', 'PV', 'VK', 'PK', 'PV', 'VK', 'PK', 'PV', 'VK', 'PK', 'PV', 'VK', 'PK', 'PV', 'VK', 'PK', 'PV', 'VK', 'PK', 'PV', 'VK', 'PK', 'PV', 'VK']\n",
      "[40.0, 40.0, 40.0, 40.0, 40.0, 40.0, 40.0, 40.0, 40.0, 40.0, 40.0, 40.0, 40.0, 40.0, 40.0, 40.0, 40.0, 40.0, 40.0, 40.0, 40.0, 40.0, 40.0, 40.0, 40.0, 40.0, 40.0, 40.0, 40.0, 40.0, 40.0, 40.0, 40.0, 40.0, 40.0, 40.0]\n",
      "[100.0, 100.0, 100.0, 127.0, 127.0, 127.0, 155.0, 155.0, 155.0, 182.0, 182.0, 182.0, 209.0, 209.0, 209.0, 236.0, 236.0, 236.0, 264.0, 264.0, 264.0, 291.0, 291.0, 291.0, 318.0, 318.0, 318.0, 345.0, 345.0, 345.0, 373.0, 373.0, 373.0, 400.0, 400.0, 400.0]\n"
     ]
    }
   ],
   "source": [
    "def listdir_nohidden(path):\n",
    "    itemAll=[]\n",
    "    for item in os.listdir(path):\n",
    "        if not item.startswith('.') and os.path.isfile(os.path.join(path, item)):\n",
    "            itemAll.append(item)\n",
    "    return itemAll\n",
    "\n",
    "\n",
    "fileList=listdir_nohidden(path)\n",
    "\n",
    "fileList=[x.split('.')[0] for x in fileList]\n",
    "W=[float(x.split('H')[0][1:]) for x in fileList]\n",
    "PVK=[(x.split('-')[1]) for x in fileList]\n",
    "H=[float(x.split('H')[1].split('T')[0]) for x in fileList]\n",
    "T=[float(x.split('T')[1].split('-')[0]) for x in fileList]\n",
    "print fileList\n",
    "print W\n",
    "print PVK\n",
    "print H\n",
    "print T"
   ]
  },
  {
   "cell_type": "code",
   "execution_count": null,
   "metadata": {
    "collapsed": true
   },
   "outputs": [],
   "source": []
  }
 ],
 "metadata": {
  "kernelspec": {
   "display_name": "Python 2",
   "language": "python",
   "name": "python2"
  },
  "language_info": {
   "codemirror_mode": {
    "name": "ipython",
    "version": 2
   },
   "file_extension": ".py",
   "mimetype": "text/x-python",
   "name": "python",
   "nbconvert_exporter": "python",
   "pygments_lexer": "ipython2",
   "version": "2.7.13"
  }
 },
 "nbformat": 4,
 "nbformat_minor": 0
}
