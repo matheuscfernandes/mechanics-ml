{
 "cells": [
  {
   "cell_type": "code",
   "execution_count": 97,
   "metadata": {
    "collapsed": false
   },
   "outputs": [
    {
     "name": "stdout",
     "output_type": "stream",
     "text": [
      "Populating the interactive namespace from numpy and matplotlib\n"
     ]
    }
   ],
   "source": [
    "import matplotlib.pyplot as plt\n",
    "import numpy.random\n",
    "import numpy as np\n",
    "import seaborn\n",
    "import sklearn as sk\n",
    "import pandas as pd\n",
    "import glob\n",
    "import os\n",
    "%pylab inline"
   ]
  },
  {
   "cell_type": "markdown",
   "metadata": {},
   "source": [
    "## Defining Functions and Figure Output Preferences"
   ]
  },
  {
   "cell_type": "code",
   "execution_count": 207,
   "metadata": {
    "collapsed": true
   },
   "outputs": [],
   "source": [
    "pylab.rcParams['figure.figsize'] = (8, 4)\n",
    "pylab.rcParams['xtick.labelsize'] = 16\n",
    "pylab.rcParams['ytick.labelsize'] = 16\n",
    "pylab.rcParams['axes.labelsize'] = 15\n",
    "pylab.rcParams['legend.fontsize'] = 15\n",
    "pylab.rcParams['axes.titlesize'] = 17\n",
    "pylab.rcParams['legend.frameon'] = True \n",
    "# pylab.rcParams['figure.'] = True \n",
    "\n",
    "def listOfFiles(path):\n",
    "    itemAll=[]\n",
    "    for item in os.listdir(path):\n",
    "        if not item.startswith('.') and os.path.isfile(os.path.join(path, item)):\n",
    "            itemAll.append(item)\n",
    "    return itemAll\n",
    "def leastSquareErr(Y,YHat):\n",
    "    Err=0\n",
    "    for x in xrange(len(Y)):\n",
    "        Err+=((Y[x]-YHat[x]))**2\n",
    "    return Err\n",
    "def obtainRows(Val,M):\n",
    "    List=[]\n",
    "    for i in xrange(len(M)):\n",
    "        if Val[0]==M[i,0] and Val[1]==M[i,1]:\n",
    "            List.append(M[i,:])\n",
    "    ret=np.array(List)\n",
    "    ret.sort(axis=0)\n",
    "    return ret\n",
    "            "
   ]
  },
  {
   "cell_type": "markdown",
   "metadata": {},
   "source": [
    "## Importing Data/ Parsing Files"
   ]
  },
  {
   "cell_type": "code",
   "execution_count": 134,
   "metadata": {
    "collapsed": false
   },
   "outputs": [],
   "source": [
    "path='Data/' #path to data folder\n",
    "dirs = [d for d in os.listdir('Data/') if os.path.isdir(os.path.join('Data/', d))] #Getting names of directories\n",
    "try: del dataKAll\n",
    "except: pass\n",
    "try: del dataPAll\n",
    "except: pass\n",
    "    \n",
    "for dirr in dirs:\n",
    "    fileListAll=listOfFiles(path+dirr)\n",
    "    for filer in fileListAll:\n",
    "        ff=filer.split('.')[0] #get rit of .out\n",
    "        PVK=ff.split('-')[1] # obtain file type from the file name\n",
    "        \n",
    "        if PVK=='PV' or PVK=='VK': #Check to see what file type it is\n",
    "            data = np.loadtxt(path+dirr+'/'+filer, delimiter=' ')\n",
    "            H=float(ff.split('H')[1].split('T')[0])+data[:,0]*0.\n",
    "            T=float(ff.split('T')[1].split('-')[0])+data[:,0]*0.\n",
    "            \n",
    "            if PVK=='PV': #file PV: col0 V; col1 P\n",
    "                V=data[:,0]\n",
    "                P=data[:,1]\n",
    "                dataAll=np.column_stack((H,T,V,P))\n",
    "                try: dataPAll=np.vstack((dataPAll,dataAll))\n",
    "                except: dataPAll=dataAll\n",
    "                \n",
    "            if PVK=='VK': #file VK: col0 K; col1 V\n",
    "                V=data[:,1]\n",
    "                K=data[:,0]\n",
    "                dataAll=np.column_stack((H,T,V,K))\n",
    "                try: dataKAll=np.vstack((dataKAll,dataAll))\n",
    "                except: dataKAll=dataAll\n",
    "\n",
    "\n",
    "np.random.shuffle(dataKAll)\n",
    "np.random.shuffle(dataPAll)\n",
    "\n",
    "XK=dataKAll[:,:-1]\n",
    "YK=dataKAll[:,-1]\n",
    "XP=dataPAll[:,:-1]\n",
    "YP=dataPAll[:,-1]"
   ]
  },
  {
   "cell_type": "markdown",
   "metadata": {},
   "source": [
    "## Neural Networks Learning Algorithm"
   ]
  },
  {
   "cell_type": "code",
   "execution_count": 197,
   "metadata": {
    "collapsed": false
   },
   "outputs": [
    {
     "name": "stdout",
     "output_type": "stream",
     "text": [
      "0.496505857189\n"
     ]
    }
   ],
   "source": [
    "from sklearn.neural_network import MLPRegressor\n",
    "MLP=MLPRegressor(hidden_layer_sizes=(100,))\n",
    "\n",
    "TrainL=int(len(YP)*9./10.)\n",
    "\n",
    "XTrain=XP[:TrainL,:]\n",
    "YTrain=YP[:TrainL]\n",
    "XTest=XP[TrainL:,:]\n",
    "YTest=YP[TrainL:]\n",
    "\n",
    "MLP.fit(XTrain,YTrain)\n",
    "\n",
    "YKHat=MLP.predict(XTest)\n",
    "print MLP.score(XTest,YTest)\n"
   ]
  },
  {
   "cell_type": "code",
   "execution_count": 216,
   "metadata": {
    "collapsed": false
   },
   "outputs": [
    {
     "data": {
      "text/plain": [
       "<matplotlib.legend.Legend at 0x114165bd0>"
      ]
     },
     "execution_count": 216,
     "metadata": {},
     "output_type": "execute_result"
    },
    {
     "data": {
      "image/png": "[encoded data removed]",
      "text/plain": [
       "<matplotlib.figure.Figure at 0x1188916d0>"
      ]
     },
     "metadata": {},
     "output_type": "display_data"
    }
   ],
   "source": [
    "# Testing Plot with PV\n",
    "#Filtering\n",
    "H=80;T=291\n",
    "rawData = obtainRows([H,T],dataPAll)\n",
    "V=rawData[:,2]\n",
    "P=rawData[:,3]\n",
    "P_predict=rawData[:,:-1]\n",
    "V_predict=MLP.predict(P_predict)\n",
    "\n",
    "plt.title(r'Normalized Behavior for $H=80$ and $T=291$')\n",
    "plt.xlabel(r'$V$')\n",
    "plt.ylabel(r'$P$')\n",
    "plt.semilogx(V/max(V),P,label='Data')\n",
    "plt.semilogx(V_predict/max(V_predict),P,label='Prediction')\n",
    "plt.legend()"
   ]
  },
  {
   "cell_type": "code",
   "execution_count": 199,
   "metadata": {
    "collapsed": false
   },
   "outputs": [
    {
     "name": "stdout",
     "output_type": "stream",
     "text": [
      "[ 0.44637797  0.44717374  0.44796951  0.44916316  0.45095364  0.45363934\n",
      "  0.45766791  0.46371076  0.47166844  0.47962612  0.48758376  0.49554144\n",
      "  0.50349909  0.51145677  0.51941445  0.5273721   0.53532978  0.54328745\n",
      "  0.5512451   0.55920278  0.56716046  0.57511814  0.58307579  0.59103347\n",
      "  0.59899111  0.60694879  0.61490647  0.62286412  0.6308218   0.63877948\n",
      "  0.64673713  0.6546948   0.66265248  0.67061016  0.67856778  0.68652546\n",
      "  0.69448314  0.70244082  0.71039849  0.71835617  0.72631379  0.73427147\n",
      "  0.74222915  0.75018683  0.7581445   0.76610212  0.7740598   0.78201748\n",
      "  0.78997516  0.79793284  0.80589052  0.81384814  0.82180581  0.82976349\n",
      "  0.83772117  0.84567885  0.85363647  0.86159415  0.86955183  0.8775095\n",
      "  0.88546718  0.89342486  0.90138248  0.90934016  0.91729784  0.92525551\n",
      "  0.93321319  0.94117081  0.94912849  0.95708617  0.96504385  0.97300153\n",
      "  0.9809592   0.98891682  0.9968745   1.00483218  1.01278986  1.02074754\n",
      "  1.02870516  1.03666283  1.04462051  1.05257819  1.06053587  1.06849355\n",
      "  1.07645117  1.08440885  1.09236652  1.1003242   1.10828188  1.1162395\n",
      "  1.12419718  1.13215492  1.14011248  1.14807016  1.15602783  1.16398551\n",
      "  1.17194319  1.17990087  1.18785855  1.19581623  1.2037739   1.21173158\n",
      "  1.21968926  1.22764694  1.2356045   1.24214469]\n",
      "[  4931.27246094   4944.58691406   4957.90136719   4977.87304688\n",
      "   5007.83056641   5052.76660156   5120.17089844   5221.27734375\n",
      "   5354.421875     5487.56640625   5620.71044922   5753.85498047\n",
      "   5886.99902344   6020.14355469   6153.28808594   6286.43212891\n",
      "   6419.57666016   6552.72119141   6685.86523438   6819.00976562\n",
      "   6952.15429688   7085.29882812   7218.44287109   7351.58740234\n",
      "   7484.73144531   7617.87597656   7751.02050781   7884.16455078\n",
      "   8017.30908203   8150.45361328   8283.59765625   8416.7421875\n",
      "   8549.88671875   8683.03125      8816.17480469   8949.31933594\n",
      "   9082.46386719   9215.60839844   9348.75292969   9481.89746094\n",
      "   9615.04101562   9748.18554688   9881.33007812  10014.47460938\n",
      "  10147.61914062  10280.76269531  10413.90722656  10547.05175781\n",
      "  10680.19628906  10813.34082031  10946.48535156  11079.62890625\n",
      "  11212.7734375   11345.91796875  11479.0625      11612.20703125\n",
      "  11745.35058594  11878.49511719  12011.63964844  12144.78417969\n",
      "  12277.92871094  12411.07324219  12544.21679688  12677.36132812\n",
      "  12810.50585938  12943.65039062  13076.79492188  13209.93847656\n",
      "  13343.08300781  13476.22753906  13609.37207031  13742.51660156\n",
      "  13875.66113281  14008.8046875   14141.94921875  14275.09375\n",
      "  14408.23828125  14541.3828125   14674.52636719  14807.67089844\n",
      "  14940.81542969  15073.95996094  15207.10449219  15340.24902344\n",
      "  15473.39257812  15606.53710938  15739.68164062  15872.82617188\n",
      "  16005.97070312  16139.11425781  16272.25878906  16405.40429688\n",
      "  16538.546875    16671.69140625  16804.8359375   16937.98046875  17071.125\n",
      "  17204.26953125  17337.4140625   17470.55859375  17603.703125\n",
      "  17736.84765625  17869.9921875   18003.13671875  18136.27929688\n",
      "  18245.70703125]\n"
     ]
    }
   ],
   "source": [
    "print V_predict\n",
    "print V"
   ]
  },
  {
   "cell_type": "code",
   "execution_count": null,
   "metadata": {
    "collapsed": true
   },
   "outputs": [],
   "source": []
  }
 ],
 "metadata": {
  "kernelspec": {
   "display_name": "Python 2",
   "language": "python",
   "name": "python2"
  },
  "language_info": {
   "codemirror_mode": {
    "name": "ipython",
    "version": 2
   },
   "file_extension": ".py",
   "mimetype": "text/x-python",
   "name": "python",
   "nbconvert_exporter": "python",
   "pygments_lexer": "ipython2",
   "version": "2.7.13"
  }
 },
 "nbformat": 4,
 "nbformat_minor": 0
}
