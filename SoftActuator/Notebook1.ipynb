{
 "cells": [
  {
   "cell_type": "code",
   "execution_count": 4,
   "metadata": {
    "collapsed": false
   },
   "outputs": [
    {
     "name": "stdout",
     "output_type": "stream",
     "text": [
      "Populating the interactive namespace from numpy and matplotlib\n",
      "\n",
      "The scikit-learn version is 0.18.1.\n",
      "The Numpy version is 1.12.1.\n",
      "The TensorFlow version is 1.0.1.\n"
     ]
    }
   ],
   "source": [
    "import matplotlib.pyplot as plt\n",
    "import numpy.random\n",
    "import numpy as np\n",
    "import seaborn\n",
    "import sklearn as sk\n",
    "import pandas as pd\n",
    "import glob\n",
    "import os\n",
    "import tensorflow as tf\n",
    "\n",
    "%pylab inline\n",
    "\n",
    "print('\\nThe scikit-learn version is {}.'.format(sk.__version__))\n",
    "print('The Numpy version is {}.'.format(np.__version__))\n",
    "print('The TensorFlow version is {}.'.format(tf.__version__))"
   ]
  },
  {
   "cell_type": "markdown",
   "metadata": {},
   "source": [
    "## Defining Functions and Figure Output Preferences"
   ]
  },
  {
   "cell_type": "code",
   "execution_count": 5,
   "metadata": {
    "collapsed": false
   },
   "outputs": [],
   "source": [
    "pylab.rcParams['figure.figsize'] = (8, 4)\n",
    "pylab.rcParams['xtick.labelsize'] = 16\n",
    "pylab.rcParams['ytick.labelsize'] = 16\n",
    "pylab.rcParams['axes.labelsize'] = 15\n",
    "pylab.rcParams['legend.fontsize'] = 15\n",
    "pylab.rcParams['axes.titlesize'] = 17\n",
    "pylab.rcParams['legend.frameon'] = True \n",
    "pylab.rcParams['figure.facecolor'] = 'white' \n",
    "\n",
    "def listOfFiles(path):\n",
    "    itemAll=[]\n",
    "    for item in os.listdir(path):\n",
    "        if not item.startswith('.') and os.path.isfile(os.path.join(path, item)):\n",
    "            itemAll.append(item)\n",
    "    return itemAll\n",
    "def leastSquareErr(Y,YHat):\n",
    "    Err=0\n",
    "    for x in xrange(len(Y)):\n",
    "        Err+=((Y[x]-YHat[x]))**2\n",
    "    return Err\n",
    "def obtainRows(Val,M):\n",
    "    List=[]\n",
    "    for i in xrange(len(M)):\n",
    "        if Val[0]==M[i,0] and Val[1]==M[i,1]:\n",
    "            List.append(M[i,:])\n",
    "    ret=np.array(List)\n",
    "    ret.sort(axis=0)\n",
    "    return ret\n",
    "            "
   ]
  },
  {
   "cell_type": "markdown",
   "metadata": {},
   "source": [
    "## Importing Data/ Parsing Files"
   ]
  },
  {
   "cell_type": "code",
   "execution_count": 27,
   "metadata": {
    "collapsed": false
   },
   "outputs": [],
   "source": [
    "path='Data/' #path to data folder\n",
    "dirs = [d for d in os.listdir('Data/') if os.path.isdir(os.path.join('Data/', d))] #Getting names of directories\n",
    "try: del dataKAll\n",
    "except: pass\n",
    "try: del dataPAll\n",
    "except: pass\n",
    "    \n",
    "for dirr in dirs:\n",
    "    fileListAll=listOfFiles(path+dirr)\n",
    "    for filer in fileListAll:\n",
    "        ff=filer.split('.')[0] #get rit of .out\n",
    "        PVK=ff.split('-')[1] # obtain file type from the file name\n",
    "        \n",
    "        if PVK=='PV' or PVK=='VK': #Check to see what file type it is\n",
    "            data = np.loadtxt(path+dirr+'/'+filer, delimiter=' ')\n",
    "            H=float(ff.split('H')[1].split('T')[0])+data[:,0]*0.\n",
    "            T=float(ff.split('T')[1].split('-')[0])+data[:,0]*0.\n",
    "            \n",
    "            if PVK=='PV': #file PV: col0 V; col1 P\n",
    "                V=data[:,0]-min(data[:,0])\n",
    "                V2=V**2\n",
    "                V3=V**3\n",
    "                V4=V**4\n",
    "                P=data[:,1]\n",
    "                dataAll=np.column_stack((H,T,V,P))\n",
    "                try: dataPAll=np.vstack((dataPAll,dataAll))\n",
    "                except: dataPAll=dataAll\n",
    "                \n",
    "            if PVK=='VK': #file VK: col0 K; col1 V\n",
    "                V=data[:,1]-min(data[:,0])\n",
    "                K=data[:,0]\n",
    "                dataAll=np.column_stack((H,T,V,K))\n",
    "                try: dataKAll=np.vstack((dataKAll,dataAll))\n",
    "                except: dataKAll=dataAll\n",
    "\n",
    "\n",
    "np.random.shuffle(dataKAll)\n",
    "np.random.shuffle(dataPAll)\n",
    "\n",
    "XK=dataKAll[:,:-1]\n",
    "YK=dataKAll[:,-1]\n",
    "XP=dataPAll[:,:-1]\n",
    "YP=dataPAll[:,-1]"
   ]
  },
  {
   "cell_type": "markdown",
   "metadata": {},
   "source": [
    "## Neural Networks Learning Algorithm"
   ]
  },
  {
   "cell_type": "markdown",
   "metadata": {},
   "source": [
    "### Using SciKit Learn"
   ]
  },
  {
   "cell_type": "code",
   "execution_count": 49,
   "metadata": {
    "collapsed": false
   },
   "outputs": [
    {
     "name": "stdout",
     "output_type": "stream",
     "text": [
      "LeastSquares Error Estimate: 0.999811041414\n"
     ]
    }
   ],
   "source": [
    "from sklearn.neural_network import MLPRegressor\n",
    "from sklearn.ensemble import RandomForestRegressor\n",
    "MLP=RandomForestRegressor(n_estimators=100)\n",
    "# MLP=MLPRegressor(hidden_layer_sizes=(2000, ), activation='logistic', solver='sgd', alpha=0.0001, batch_size='auto',\n",
    "#      learning_rate='constant', learning_rate_init=0.001, power_t=0.5, \n",
    "#      shuffle=True, random_state=None, tol=0.0001, verbose=False, \n",
    "#      warm_start=False, momentum=0.9, nesterovs_momentum=True, early_stopping=False, \n",
    "#      validation_fraction=0.1, beta_1=0.9, beta_2=0.999, epsilon=1e-08)\n",
    "TrainL=int(len(YP)*95./100.)\n",
    "\n",
    "XTrain=XP[:TrainL,:]\n",
    "YTrain=YP[:TrainL]\n",
    "XTest=XP[TrainL:,:]\n",
    "YTest=YP[TrainL:]\n",
    "\n",
    "MLP.fit(XTrain,YTrain)\n",
    "\n",
    "YKHat=MLP.predict(XTest)\n",
    "print 'LeastSquares Error Estimate:',MLP.score(XTest,YTest)\n"
   ]
  },
  {
   "cell_type": "code",
   "execution_count": 52,
   "metadata": {
    "collapsed": false
   },
   "outputs": [
    {
     "data": {
      "text/plain": [
       "<matplotlib.legend.Legend at 0x12bf25f10>"
      ]
     },
     "execution_count": 52,
     "metadata": {},
     "output_type": "execute_result"
    },
    {
     "data": {
      "image/png": "[encoded data removed]",
      "text/plain": [
       "<matplotlib.figure.Figure at 0x1274a2a10>"
      ]
     },
     "metadata": {},
     "output_type": "display_data"
    }
   ],
   "source": [
    "#Testing Plot with PV\n",
    "#Filtering\n",
    "H=80;T=291\n",
    "rawData = obtainRows([H,T],dataPAll)\n",
    "V=rawData[:,2]\n",
    "P=rawData[:,-1]\n",
    "V_predict=rawData[:,:-1]\n",
    "P_predict=MLP.predict(V_predict)\n",
    "\n",
    "plt.title(r'Normalized Behavior for $H=80$ and $T=291$')\n",
    "plt.xlabel(r'$V$')\n",
    "plt.ylabel(r'$P$')\n",
    "plt.plot(V,P,label='Data',lw=3)\n",
    "plt.plot(V,P_predict,'r--',label='Prediction',lw=3)\n",
    "plt.legend()"
   ]
  },
  {
   "cell_type": "code",
   "execution_count": 11,
   "metadata": {
    "collapsed": false
   },
   "outputs": [
    {
     "name": "stdout",
     "output_type": "stream",
     "text": [
      "[ 0.01424939  0.01711291  0.02123692  0.02946532  0.03761946  0.05172021\n",
      "  0.06992963  0.10545318  0.14637986  0.17915485  0.2282419   0.27353335\n",
      "  0.31513878  0.34441768  0.35722798  0.36475724  0.37644775  0.39960964\n",
      "  0.43537259  0.47811425  0.51960679  0.55512262  0.58460988  0.60978206\n",
      "  0.63235554  0.65334469  0.6730586   0.69169274  0.70982778  0.72842765\n",
      "  0.74851317  0.77067274  0.79454958  0.81868501  0.84107922  0.86016483\n",
      "  0.87537925  0.88703359  0.89586283  0.90266085  0.90810092  0.91268281\n",
      "  0.916738    0.92045747  0.92392716  0.92716562  0.93015955  0.93289224\n",
      "  0.93536172  0.93758804  0.93961215  0.94149     0.94328517  0.9450616\n",
      "  0.94687727  0.94877873  0.95079651  0.95294205  0.95520664  0.95756378\n",
      "  0.95997467  0.96239615  0.96478916  0.96712535  0.96939046  0.97158418\n",
      "  0.97371735  0.97580768  0.9778753   0.97993883  0.98201259  0.98410473\n",
      "  0.98621646  0.98834212  0.99046998  0.99258352  0.99466312  0.99668786\n",
      "  0.99863726  1.00049286  1.0022393   1.00386506  1.00536279  1.00672916\n",
      "  1.00796449  1.0090722   1.01005811  1.0109298   1.01169596  1.01236585\n",
      "  1.01294891  1.01345438  1.01389104  1.01426715  1.01459027  1.01486725\n",
      "  1.01510422  1.01530663  1.01547929  1.01562638  1.01575157  1.01585803\n",
      "  1.0159485   1.01602532  1.01609053  1.01613665]\n",
      "[ 0.          0.00433976  0.00866723  0.0151354   0.02478586  0.03914521\n",
      "  0.06042311  0.09175263  0.13194527  0.17093907  0.20875029  0.24539821\n",
      "  0.2809048   0.31529438  0.34859312  0.38082856  0.41202924  0.44222432\n",
      "  0.47144207  0.49971536  0.5270713   0.5535385   0.57914561  0.60392058\n",
      "  0.62789094  0.65108335  0.67352366  0.69523698  0.71624738  0.73657817\n",
      "  0.75625193  0.77529043  0.7937147   0.81154501  0.82880092  0.84550136\n",
      "  0.86166435  0.87730753  0.89244753  0.90710068  0.92128253  0.93500811\n",
      "  0.9482919   0.9611479   0.97358948  0.98562968  0.99728101  1.00855541\n",
      "  1.01946461  1.03001988  1.04023182  1.05011106  1.05966759  1.06891119\n",
      "  1.0778513   1.08649695  1.09485698  1.10293984  1.11075366  1.1183064\n",
      "  1.12560582  1.1326592   1.13947392  1.14605665  1.15241444  1.15855348\n",
      "  1.16448021  1.17020071  1.17572093  1.18104661  1.18618309  1.19113588\n",
      "  1.19591022  1.20051098  1.20494318  1.20921135  1.21332026  1.21727431\n",
      "  1.22107768  1.22473454  1.22824895  1.23162484  1.23486578  1.23797572\n",
      "  1.24095798  1.24381602  1.24655306  1.24917245  1.25167716  1.25407016\n",
      "  1.25635433  1.25853252  1.26060724  1.26258123  1.26445675  1.26623642\n",
      "  1.26792216  1.26951647  1.27102113  1.27243817  1.2737695   1.27501667\n",
      "  1.27618134  1.27726495  1.27826881  1.27903497]\n"
     ]
    }
   ],
   "source": [
    "print P_predict\n",
    "print P"
   ]
  },
  {
   "cell_type": "markdown",
   "metadata": {
    "collapsed": true
   },
   "source": [
    "### Using tensor flow"
   ]
  },
  {
   "cell_type": "code",
   "execution_count": null,
   "metadata": {
    "collapsed": true
   },
   "outputs": [],
   "source": []
  }
 ],
 "metadata": {
  "kernelspec": {
   "display_name": "Python 2",
   "language": "python",
   "name": "python2"
  },
  "language_info": {
   "codemirror_mode": {
    "name": "ipython",
    "version": 2
   },
   "file_extension": ".py",
   "mimetype": "text/x-python",
   "name": "python",
   "nbconvert_exporter": "python",
   "pygments_lexer": "ipython2",
   "version": "2.7.13"
  }
 },
 "nbformat": 4,
 "nbformat_minor": 0
}
